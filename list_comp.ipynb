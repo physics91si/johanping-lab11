{
 "cells": [
  {
   "cell_type": "code",
   "execution_count": 32,
   "metadata": {
    "collapsed": false
   },
   "outputs": [
    {
     "data": {
      "text/plain": [
       "['a', 'b', 'c', 'd', 'e', 'f', 'g', 'h', 'i', 'j']"
      ]
     },
     "execution_count": 32,
     "metadata": {},
     "output_type": "execute_result"
    }
   ],
   "source": [
    "import string\n",
    "alphabet = string.ascii_lowercase\n",
    "\n",
    "\n",
    "#Returns a list of the first 10 letters of the alphabet\n",
    "[letter for letter in alphabet[:10]]\n"
   ]
  },
  {
   "cell_type": "code",
   "execution_count": 33,
   "metadata": {
    "collapsed": false
   },
   "outputs": [
    {
     "data": {
      "text/plain": [
       "['a', 'b', 'c', 'd', 'e', 'g', 'h', 'i', 'j']"
      ]
     },
     "execution_count": 33,
     "metadata": {},
     "output_type": "execute_result"
    }
   ],
   "source": [
    "#Returns a list of the first 10 letters of the alphabet except the sixth one.\n",
    "[letter for letter in alphabet[:5]] + [letter for letter in alphabet[6:10]]"
   ]
  },
  {
   "cell_type": "code",
   "execution_count": 47,
   "metadata": {
    "collapsed": false
   },
   "outputs": [
    {
     "name": "stdout",
     "output_type": "stream",
     "text": [
      "['a,aa,aaa', 'b,bb,bbb', 'c,cc,ccc', 'd,dd,ddd', 'e,ee,eee', 'g,gg,ggg', 'h,hh,hhh', 'i,ii,iii', 'j,jj,jjj']\n"
     ]
    }
   ],
   "source": [
    "#Returns a list of the first 10 letters of the alphabet except the sixth one, each repeated\n",
    "#each 1 , 2, and 3 times:\n",
    "\n",
    "first = [letter + \",\" + letter*2 + \",\" + letter*3 for letter in alphabet[:5]] \n",
    "last = [letter + \",\" + letter*2 + \",\" + letter*3 for letter in alphabet[6:10]]\n",
    "print(first+last)\n",
    "    "
   ]
  },
  {
   "cell_type": "code",
   "execution_count": 49,
   "metadata": {
    "collapsed": false
   },
   "outputs": [
    {
     "name": "stdout",
     "output_type": "stream",
     "text": [
      "[['a,aa,aaa'], ['b,bb,bbb'], ['c,cc,ccc'], ['d,dd,ddd'], ['e,ee,eee'], ['g,gg,ggg'], ['h,hh,hhh'], ['i,ii,iii'], ['j,jj,jjj']]\n"
     ]
    }
   ],
   "source": [
    "#Returns a list of the first 10 letters of the alphabet except the sixth one, each repeated\n",
    "#each 1 , 2, and 3 times in a grid:\n",
    "first = [[letter + \",\" + letter*2 + \",\" + letter*3] for letter in alphabet[:5]] \n",
    "last = [[letter + \",\" + letter*2 + \",\" + letter*3] for letter in alphabet[6:10]]\n",
    "print(first+last)\n",
    "    "
   ]
  },
  {
   "cell_type": "code",
   "execution_count": 53,
   "metadata": {
    "collapsed": false
   },
   "outputs": [
    {
     "ename": "TypeError",
     "evalue": "'type' object is not iterable",
     "output_type": "error",
     "traceback": [
      "\u001b[0;31m---------------------------------------------------------------------------\u001b[0m",
      "\u001b[0;31mTypeError\u001b[0m                                 Traceback (most recent call last)",
      "\u001b[0;32m<ipython-input-53-0fb0be798f55>\u001b[0m in \u001b[0;36m<module>\u001b[0;34m()\u001b[0m\n\u001b[0;32m----> 1\u001b[0;31m \u001b[0;34m[\u001b[0m\u001b[0mletter\u001b[0m\u001b[0;34m.\u001b[0m\u001b[0mupper\u001b[0m\u001b[0;34m(\u001b[0m\u001b[0;34m)\u001b[0m \u001b[0;32mfor\u001b[0m \u001b[0mletter\u001b[0m \u001b[0;32min\u001b[0m \u001b[0mlist\u001b[0m \u001b[0;32mif\u001b[0m \u001b[0;34m(\u001b[0m\u001b[0mlist\u001b[0m\u001b[0;34m.\u001b[0m\u001b[0mindex\u001b[0m\u001b[0;34m(\u001b[0m\u001b[0mletter\u001b[0m\u001b[0;34m)\u001b[0m\u001b[0;34m%\u001b[0m\u001b[0;36m3\u001b[0m\u001b[0;34m==\u001b[0m\u001b[0;36m0\u001b[0m\u001b[0;34m)\u001b[0m\u001b[0;34m]\u001b[0m\u001b[0;34m\u001b[0m\u001b[0m\n\u001b[0m",
      "\u001b[0;31mTypeError\u001b[0m: 'type' object is not iterable"
     ]
    }
   ],
   "source": [
    "[letter.upper() for letter in list if (list.index(letter)%3==0)]"
   ]
  },
  {
   "cell_type": "code",
   "execution_count": null,
   "metadata": {
    "collapsed": true
   },
   "outputs": [],
   "source": []
  }
 ],
 "metadata": {
  "kernelspec": {
   "display_name": "Python 3",
   "language": "python",
   "name": "python3"
  },
  "language_info": {
   "codemirror_mode": {
    "name": "ipython",
    "version": 3
   },
   "file_extension": ".py",
   "mimetype": "text/x-python",
   "name": "python",
   "nbconvert_exporter": "python",
   "pygments_lexer": "ipython3",
   "version": "3.5.1"
  }
 },
 "nbformat": 4,
 "nbformat_minor": 0
}
