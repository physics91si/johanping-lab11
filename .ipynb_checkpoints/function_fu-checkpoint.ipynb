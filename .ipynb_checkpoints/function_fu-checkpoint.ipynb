{
 "cells": [
  {
   "cell_type": "markdown",
   "metadata": {},
   "source": [
    "#part b"
   ]
  },
  {
   "cell_type": "code",
   "execution_count": 58,
   "metadata": {
    "collapsed": false
   },
   "outputs": [
    {
     "name": "stdout",
     "output_type": "stream",
     "text": [
      "[1, 4, 9, 16, 25, 36, 49, 64, 81, 100]\n",
      "[1, 4, 9, 16, 25, 36, 49, 64, 81, 100]\n"
     ]
    }
   ],
   "source": [
    "import numpy as np\n",
    "\n",
    "#Squares: Create a list of the first 10 square numbers. First use a list comprehension, then use a\n",
    "#lambda function and map\n",
    "\n",
    "#list comprehension\n",
    "num_list = np.arange(1,11)\n",
    "squares = [number**2 for number in num_list]\n",
    "print(squares)\n",
    "\n",
    "#map\n",
    "print(list(map(lambda num: num**2, num_list)))"
   ]
  },
  {
   "cell_type": "code",
   "execution_count": 10,
   "metadata": {
    "collapsed": false
   },
   "outputs": [
    {
     "data": {
      "text/plain": [
       "120"
      ]
     },
     "execution_count": 10,
     "metadata": {},
     "output_type": "execute_result"
    }
   ],
   "source": [
    "from functools import reduce\n",
    "\n",
    "#Products: Use a lambda function with reduce to multiply up the numbers from 1 to 5.\n",
    "one_to_five = np.arange(1,6)\n",
    "reduce(lambda x,y: x*y, one_to_five)"
   ]
  },
  {
   "cell_type": "code",
   "execution_count": 41,
   "metadata": {
    "collapsed": false
   },
   "outputs": [
    {
     "data": {
      "text/plain": [
       "['test1', 'test2', 'test3']"
      ]
     },
     "execution_count": 41,
     "metadata": {},
     "output_type": "execute_result"
    }
   ],
   "source": [
    "# Filenames: Say that you have a string with a list of file names \"test1.py\ttest2.py\t\n",
    "# Physics 91SI Spring 2016\n",
    "# 2\n",
    "# test3.py\t...\" and you want to output a list of just the filenames without the .py extension.\n",
    "# Do this with a list comprehension.\n",
    "files = ['test1.py', 'test2.py', 'test3.py']\n",
    "[name[:name.index('.py')] for name in files]"
   ]
  },
  {
   "cell_type": "code",
   "execution_count": 87,
   "metadata": {
    "collapsed": false
   },
   "outputs": [
    {
     "ename": "SyntaxError",
     "evalue": "invalid syntax (<ipython-input-87-de790be42881>, line 4)",
     "output_type": "error",
     "traceback": [
      "\u001b[0;36m  File \u001b[0;32m\"<ipython-input-87-de790be42881>\"\u001b[0;36m, line \u001b[0;32m4\u001b[0m\n\u001b[0;31m    [print(word) if (list.index(word)!= list) for word in string]\u001b[0m\n\u001b[0m                                                ^\u001b[0m\n\u001b[0;31mSyntaxError\u001b[0m\u001b[0;31m:\u001b[0m invalid syntax\n"
     ]
    }
   ],
   "source": [
    "# Dictionary, which takes a string (ex: \"Spam\tand\teggs\tshould\tnot\thave\tlegs!\") and\n",
    "# returns a set of the unique words, case-insensitive.\n",
    "string = \"Spam and eggs should not have legs!\"\n",
    "[word if (list.index(word)!= list) for word in string]"
   ]
  },
  {
   "cell_type": "code",
   "execution_count": 96,
   "metadata": {
    "collapsed": false
   },
   "outputs": [
    {
     "data": {
      "text/plain": [
       "[[<matplotlib.lines.Line2D at 0x112416e48>],\n",
       " [<matplotlib.lines.Line2D at 0x11241c080>],\n",
       " [<matplotlib.lines.Line2D at 0x11241c9e8>],\n",
       " [<matplotlib.lines.Line2D at 0x112422240>],\n",
       " [<matplotlib.lines.Line2D at 0x112422a58>],\n",
       " [<matplotlib.lines.Line2D at 0x11242a2b0>],\n",
       " [<matplotlib.lines.Line2D at 0x11242aac8>],\n",
       " [<matplotlib.lines.Line2D at 0x112430320>],\n",
       " [<matplotlib.lines.Line2D at 0x112430b38>],\n",
       " [<matplotlib.lines.Line2D at 0x112434390>]]"
      ]
     },
     "execution_count": 96,
     "metadata": {},
     "output_type": "execute_result"
    },
    {
     "data": {
      "image/png": "[encoded data removed]",
      "text/plain": [
       "<matplotlib.figure.Figure at 0x11206cf60>"
      ]
     },
     "metadata": {},
     "output_type": "display_data"
    }
   ],
   "source": [
    "%matplotlib inline\n",
    "import matplotlib.pyplot as plt\n",
    "\n",
    "dict = {1:1, 2:4, 3:9, 4:16, 5:25, 6:36, 7:49, 8:64, 9:81, 10:100}\n",
    "[plt.plot(item) for item in dict]"
   ]
  },
  {
   "cell_type": "code",
   "execution_count": null,
   "metadata": {
    "collapsed": true
   },
   "outputs": [],
   "source": []
  }
 ],
 "metadata": {
  "kernelspec": {
   "display_name": "Python 3",
   "language": "python",
   "name": "python3"
  },
  "language_info": {
   "codemirror_mode": {
    "name": "ipython",
    "version": 3
   },
   "file_extension": ".py",
   "mimetype": "text/x-python",
   "name": "python",
   "nbconvert_exporter": "python",
   "pygments_lexer": "ipython3",
   "version": "3.5.1"
  }
 },
 "nbformat": 4,
 "nbformat_minor": 0
}
