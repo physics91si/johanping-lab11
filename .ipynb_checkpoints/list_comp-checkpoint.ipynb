{
 "cells": [
  {
   "cell_type": "code",
   "execution_count": 8,
   "metadata": {
    "collapsed": false
   },
   "outputs": [
    {
     "data": {
      "text/plain": [
       "['a', 'b', 'c', 'd', 'e', 'f', 'g', 'h', 'i', 'j']"
      ]
     },
     "execution_count": 8,
     "metadata": {},
     "output_type": "execute_result"
    }
   ],
   "source": [
    "import string\n",
    "alphabet = string.ascii_lowercase\n",
    "\n",
    "\n",
    "#Returns a list of the first 10 letters of the alphabet\n",
    "[letter for letter in alphabet[:10]]\n"
   ]
  },
  {
   "cell_type": "code",
   "execution_count": 9,
   "metadata": {
    "collapsed": false
   },
   "outputs": [
    {
     "data": {
      "text/plain": [
       "['a', 'b', 'c', 'd', 'e', 'g', 'h', 'i', 'j']"
      ]
     },
     "execution_count": 9,
     "metadata": {},
     "output_type": "execute_result"
    }
   ],
   "source": [
    "#Returns a list of the first 10 letters of the alphabet except the sixth one.\n",
    "[letter for letter in alphabet[:5]] + [letter for letter in alphabet[6:10]]"
   ]
  },
  {
   "cell_type": "code",
   "execution_count": 10,
   "metadata": {
    "collapsed": false
   },
   "outputs": [
    {
     "name": "stdout",
     "output_type": "stream",
     "text": [
      "['a,aa,aaa', 'b,bb,bbb', 'c,cc,ccc', 'd,dd,ddd', 'e,ee,eee', 'g,gg,ggg', 'h,hh,hhh', 'i,ii,iii', 'j,jj,jjj']\n"
     ]
    }
   ],
   "source": [
    "#Returns a list of the first 10 letters of the alphabet except the sixth one, each repeated\n",
    "#each 1 , 2, and 3 times:\n",
    "\n",
    "first = [letter + \",\" + letter*2 + \",\" + letter*3 for letter in alphabet[:5]] \n",
    "last = [letter + \",\" + letter*2 + \",\" + letter*3 for letter in alphabet[6:10]]\n",
    "print(first+last)\n",
    "    "
   ]
  },
  {
   "cell_type": "code",
   "execution_count": 59,
   "metadata": {
    "collapsed": false
   },
   "outputs": [
    {
     "name": "stdout",
     "output_type": "stream",
     "text": [
      "[['a,aa,aaa'], ['b,bb,bbb'], ['c,cc,ccc'], ['d,dd,ddd'], ['e,ee,eee'], ['g,gg,ggg'], ['h,hh,hhh'], ['i,ii,iii'], ['j,jj,jjj']]\n"
     ]
    }
   ],
   "source": [
    "#Returns a list of the first 10 letters of the alphabet except the sixth one, each repeated\n",
    "#each 1 , 2, and 3 times in a grid:\n",
    "first = [[letter + \",\" + letter*2 + \",\" + letter*3] for letter in alphabet[:5]] \n",
    "last = [[letter + \",\" + letter*2 + \",\" + letter*3] for letter in alphabet[6:10]]\n",
    "whole = first + last;\n",
    "print(whole)\n",
    "    "
   ]
  },
  {
   "cell_type": "code",
   "execution_count": 115,
   "metadata": {
    "collapsed": false
   },
   "outputs": [
    {
     "ename": "SyntaxError",
     "evalue": "invalid syntax (<ipython-input-115-d88d2f3327ba>, line 10)",
     "output_type": "error",
     "traceback": [
      "\u001b[0;36m  File \u001b[0;32m\"<ipython-input-115-d88d2f3327ba>\"\u001b[0;36m, line \u001b[0;32m10\u001b[0m\n\u001b[0;31m    m = map(lambda x: letter.upper()if (alphabet.index(letter)%3==0); alphabet)\u001b[0m\n\u001b[0m                                                                    ^\u001b[0m\n\u001b[0;31mSyntaxError\u001b[0m\u001b[0;31m:\u001b[0m invalid syntax\n"
     ]
    }
   ],
   "source": []
  },
  {
   "cell_type": "code",
   "execution_count": 111,
   "metadata": {
    "collapsed": false
   },
   "outputs": [
    {
     "name": "stdout",
     "output_type": "stream",
     "text": [
      "[['A,aa,aaa'], ['D,dd,ddd']]\n"
     ]
    }
   ],
   "source": []
  },
  {
   "cell_type": "code",
   "execution_count": 134,
   "metadata": {
    "collapsed": false
   },
   "outputs": [
    {
     "name": "stdout",
     "output_type": "stream",
     "text": [
      "[['A,aa,aaa'], ['b,BB,bbb'], ['c,CC,ccc'], ['D,dd,ddd'], ['e,EE,eee'], ['G,gg,ggg'], ['h,HH,hhh'], ['i,II,iii'], ['J,jj,jjj']]\n"
     ]
    }
   ],
   "source": [
    "first = [[letter.upper() + \",\" + letter*2 + \",\" + letter*3] if (alphabet.index(letter)%3==0) else [letter + \",\" + letter.upper()*2 + \",\" + letter*3] for letter in alphabet[:5]]\n",
    "last = [[letter.upper() + \",\" + letter*2 + \",\" + letter*3] if (alphabet.index(letter)%3==0) else [letter + \",\" + letter.upper()*2 + \",\" + letter*3] for letter in alphabet[6:10]]\n",
    "print(first+last)\n",
    "\n"
   ]
  },
  {
   "cell_type": "code",
   "execution_count": 140,
   "metadata": {
    "collapsed": false
   },
   "outputs": [
    {
     "data": {
      "text/plain": [
       "['A,a',\n",
       " 'b,bb,bbb',\n",
       " 'c,cc,ccc',\n",
       " 'D,d',\n",
       " 'e,ee,eee',\n",
       " 'G,g',\n",
       " 'h,hh,hhh',\n",
       " 'i,ii,iii',\n",
       " 'J,j']"
      ]
     },
     "execution_count": 140,
     "metadata": {},
     "output_type": "execute_result"
    }
   ],
   "source": [
    "[str[0].upper() if (sublist.index(str)== alphabet.index(str[0])%3) else str for sublist in list for str in sublist]"
   ]
  },
  {
   "cell_type": "code",
   "execution_count": null,
   "metadata": {
    "collapsed": true
   },
   "outputs": [],
   "source": []
  }
 ],
 "metadata": {
  "kernelspec": {
   "display_name": "Python 3",
   "language": "python",
   "name": "python3"
  },
  "language_info": {
   "codemirror_mode": {
    "name": "ipython",
    "version": 3
   },
   "file_extension": ".py",
   "mimetype": "text/x-python",
   "name": "python",
   "nbconvert_exporter": "python",
   "pygments_lexer": "ipython3",
   "version": "3.5.1"
  }
 },
 "nbformat": 4,
 "nbformat_minor": 0
}
